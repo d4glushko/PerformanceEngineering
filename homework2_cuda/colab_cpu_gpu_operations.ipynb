{
  "nbformat": 4,
  "nbformat_minor": 0,
  "metadata": {
    "colab": {
      "name": "cpu_gpu_operations.ipynb",
      "version": "0.3.2",
      "provenance": [],
      "collapsed_sections": []
    },
    "kernelspec": {
      "name": "python3",
      "display_name": "Python 3"
    },
    "accelerator": "GPU"
  },
  "cells": [
    {
      "cell_type": "markdown",
      "metadata": {
        "id": "zLl9oP-RfrdI",
        "colab_type": "text"
      },
      "source": [
        "## **Setup of the OS**\n",
        "``\n",
        "''!'' in notebook means that you are executing commands in commad shell\n",
        "\n",
        "Update all packages of debian-based distributive of the Linux OS."
      ]
    },
    {
      "cell_type": "code",
      "metadata": {
        "id": "7mFTn3l7fOLn",
        "colab_type": "code",
        "outputId": "048f3af8-9d52-40db-f353-74089ea5906c",
        "colab": {
          "base_uri": "https://localhost:8080/",
          "height": 102
        }
      },
      "source": [
        "! lsb_release -a"
      ],
      "execution_count": 1,
      "outputs": [
        {
          "output_type": "stream",
          "text": [
            "No LSB modules are available.\n",
            "Distributor ID:\tUbuntu\n",
            "Description:\tUbuntu 18.04.2 LTS\n",
            "Release:\t18.04\n",
            "Codename:\tbionic\n"
          ],
          "name": "stdout"
        }
      ]
    },
    {
      "cell_type": "code",
      "metadata": {
        "id": "OWOrJHDJaiYF",
        "colab_type": "code",
        "outputId": "27cca891-c8d1-4d20-f5e7-8552e010f0be",
        "colab": {
          "base_uri": "https://localhost:8080/",
          "height": 34
        }
      },
      "source": [
        "!apt update -qq;"
      ],
      "execution_count": 2,
      "outputs": [
        {
          "output_type": "stream",
          "text": [
            "27 packages can be upgraded. Run 'apt list --upgradable' to see them.\n"
          ],
          "name": "stdout"
        }
      ]
    },
    {
      "cell_type": "code",
      "metadata": {
        "id": "XqtcOlsmBOjX",
        "colab_type": "code",
        "outputId": "c62da731-9ee2-4284-c5f3-f272aa2ef054",
        "colab": {
          "base_uri": "https://localhost:8080/",
          "height": 309
        }
      },
      "source": [
        "!wget https://developer.nvidia.com/compute/cuda/8.0/Prod2/local_installers/cuda-repo-ubuntu1604-8-0-local-ga2_8.0.61-1_amd64-deb;"
      ],
      "execution_count": 3,
      "outputs": [
        {
          "output_type": "stream",
          "text": [
            "--2019-06-03 19:39:00--  https://developer.nvidia.com/compute/cuda/8.0/Prod2/local_installers/cuda-repo-ubuntu1604-8-0-local-ga2_8.0.61-1_amd64-deb\n",
            "Resolving developer.nvidia.com (developer.nvidia.com)... 192.229.162.216\n",
            "Connecting to developer.nvidia.com (developer.nvidia.com)|192.229.162.216|:443... connected.\n",
            "HTTP request sent, awaiting response... 302 Found\n",
            "Location: https://developer.download.nvidia.com/compute/cuda/8.0/secure/Prod2/local_installers/cuda-repo-ubuntu1604-8-0-local-ga2_8.0.61-1_amd64.deb?7v6bk_b8vGOH9KbV7jMKzloEbn55NfEyAn5hpaqTC10tb_u6BZosRlKgixYN25nzDZgCXDo5WrWCliyqd-15KsHbaG87CWH_nWUow0JXsE0wvFTpfaD0qq1clId3BoFAITnhTBUKJGXfohn9qQzeDPRID0j-X8KXL_hSxGPFBhY4bZN-J79EOJFsdSFVDI6Q2pxc6ogqmA2v84ew3sgH4ATRCA [following]\n",
            "--2019-06-03 19:39:00--  https://developer.download.nvidia.com/compute/cuda/8.0/secure/Prod2/local_installers/cuda-repo-ubuntu1604-8-0-local-ga2_8.0.61-1_amd64.deb?7v6bk_b8vGOH9KbV7jMKzloEbn55NfEyAn5hpaqTC10tb_u6BZosRlKgixYN25nzDZgCXDo5WrWCliyqd-15KsHbaG87CWH_nWUow0JXsE0wvFTpfaD0qq1clId3BoFAITnhTBUKJGXfohn9qQzeDPRID0j-X8KXL_hSxGPFBhY4bZN-J79EOJFsdSFVDI6Q2pxc6ogqmA2v84ew3sgH4ATRCA\n",
            "Resolving developer.download.nvidia.com (developer.download.nvidia.com)... 192.229.211.70, 2606:2800:21f:3aa:dcf:37b:1ed6:1fb\n",
            "Connecting to developer.download.nvidia.com (developer.download.nvidia.com)|192.229.211.70|:443... connected.\n",
            "HTTP request sent, awaiting response... 200 OK\n",
            "Length: 1913589814 (1.8G) [application/x-deb]\n",
            "Saving to: ‘cuda-repo-ubuntu1604-8-0-local-ga2_8.0.61-1_amd64-deb.1’\n",
            "\n",
            "cuda-repo-ubuntu160 100%[===================>]   1.78G   139MB/s    in 12s     \n",
            "\n",
            "2019-06-03 19:39:13 (151 MB/s) - ‘cuda-repo-ubuntu1604-8-0-local-ga2_8.0.61-1_amd64-deb.1’ saved [1913589814/1913589814]\n",
            "\n"
          ],
          "name": "stdout"
        }
      ]
    },
    {
      "cell_type": "code",
      "metadata": {
        "id": "kI9HAxg-BXxO",
        "colab_type": "code",
        "outputId": "8f5718d0-f2f1-4bac-a99c-5efce342cd97",
        "colab": {
          "base_uri": "https://localhost:8080/",
          "height": 187
        }
      },
      "source": [
        "!dpkg -i cuda-repo-ubuntu1604-8-0-local-ga2_8.0.61-1_amd64-deb;"
      ],
      "execution_count": 4,
      "outputs": [
        {
          "output_type": "stream",
          "text": [
            "(Reading database ... \r(Reading database ... 5%\r(Reading database ... 10%\r(Reading database ... 15%\r(Reading database ... 20%\r(Reading database ... 25%\r(Reading database ... 30%\r(Reading database ... 35%\r(Reading database ... 40%\r(Reading database ... 45%\r(Reading database ... 50%\r(Reading database ... 55%\r(Reading database ... 60%\r(Reading database ... 65%\r(Reading database ... 70%\r(Reading database ... 75%\r(Reading database ... 80%\r(Reading database ... 85%\r(Reading database ... 90%\r(Reading database ... 95%\r(Reading database ... 100%\r(Reading database ... 132006 files and directories currently installed.)\n",
            "Preparing to unpack cuda-repo-ubuntu1604-8-0-local-ga2_8.0.61-1_amd64-deb ...\n",
            "Unpacking cuda-repo-ubuntu1604-8-0-local-ga2 (8.0.61-1) over (8.0.61-1) ...\n",
            "Setting up cuda-repo-ubuntu1604-8-0-local-ga2 (8.0.61-1) ...\n",
            "Warning: The postinst maintainerscript of the package cuda-repo-ubuntu1604-8-0-local-ga2\n",
            "Warning: seems to use apt-key (provided by apt) without depending on gnupg or gnupg2.\n",
            "Warning: This will BREAK in the future and should be fixed by the package maintainer(s).\n",
            "Note: Check first if apt-key functionality is needed at all - it probably isn't!\n",
            "Warning: apt-key should not be used in scripts (called from postinst maintainerscript of the package cuda-repo-ubuntu1604-8-0-local-ga2)\n",
            "OK\n"
          ],
          "name": "stdout"
        }
      ]
    },
    {
      "cell_type": "code",
      "metadata": {
        "id": "SeECu_MOBb1z",
        "colab_type": "code",
        "outputId": "40dd236a-0176-4e92-f859-820f5adeb76c",
        "colab": {
          "base_uri": "https://localhost:8080/",
          "height": 34
        }
      },
      "source": [
        "!apt-key add /var/cuda-repo-8-0-local-ga2/7fa2af80.pub;"
      ],
      "execution_count": 5,
      "outputs": [
        {
          "output_type": "stream",
          "text": [
            "OK\n"
          ],
          "name": "stdout"
        }
      ]
    },
    {
      "cell_type": "code",
      "metadata": {
        "id": "EWj-8posi2qP",
        "colab_type": "code",
        "colab": {}
      },
      "source": [
        "!apt-get update -qq;"
      ],
      "execution_count": 0,
      "outputs": []
    },
    {
      "cell_type": "markdown",
      "metadata": {
        "id": "J5iJMpgXi7Hu",
        "colab_type": "text"
      },
      "source": [
        "Install packages for CUDA programming with C++"
      ]
    },
    {
      "cell_type": "code",
      "metadata": {
        "id": "VovJ51TCjB09",
        "colab_type": "code",
        "colab": {}
      },
      "source": [
        "!apt-get install cuda-10-0 gcc-5 g++-5 -y -qq;"
      ],
      "execution_count": 0,
      "outputs": []
    },
    {
      "cell_type": "markdown",
      "metadata": {
        "id": "6kk8rplbk0jS",
        "colab_type": "text"
      },
      "source": [
        "Create symbolic links  for compiler files"
      ]
    },
    {
      "cell_type": "code",
      "metadata": {
        "id": "TpWdZVLolBdj",
        "colab_type": "code",
        "colab": {
          "base_uri": "https://localhost:8080/",
          "height": 51
        },
        "outputId": "7b390401-7735-4a00-b373-ab945b9262be"
      },
      "source": [
        "!ln -s /usr/bin/gcc-5 /usr/local/cuda/bin/gcc;\n",
        "!ln -s /usr/bin/g++-5 /usr/local/cuda/bin/g++;"
      ],
      "execution_count": 8,
      "outputs": [
        {
          "output_type": "stream",
          "text": [
            "ln: failed to create symbolic link '/usr/local/cuda/bin/gcc': File exists\n",
            "ln: failed to create symbolic link '/usr/local/cuda/bin/g++': File exists\n"
          ],
          "name": "stdout"
        }
      ]
    },
    {
      "cell_type": "markdown",
      "metadata": {
        "id": "1Neyi2-7li5c",
        "colab_type": "text"
      },
      "source": [
        "Upload extension to notebook to work with CUDA C directly from notebook"
      ]
    },
    {
      "cell_type": "code",
      "metadata": {
        "id": "gkQ3ksTWlpyM",
        "colab_type": "code",
        "outputId": "9d0ede0a-994b-4e0b-b8e8-f72285bd74ec",
        "colab": {
          "base_uri": "https://localhost:8080/",
          "height": 153
        }
      },
      "source": [
        "!pip install git+git://github.com/andreinechaev/nvcc4jupyter.git"
      ],
      "execution_count": 9,
      "outputs": [
        {
          "output_type": "stream",
          "text": [
            "Collecting git+git://github.com/andreinechaev/nvcc4jupyter.git\n",
            "  Cloning git://github.com/andreinechaev/nvcc4jupyter.git to /tmp/pip-req-build-o7l6en7t\n",
            "  Running command git clone -q git://github.com/andreinechaev/nvcc4jupyter.git /tmp/pip-req-build-o7l6en7t\n",
            "Requirement already satisfied (use --upgrade to upgrade): NVCCPlugin==0.0.2 from git+git://github.com/andreinechaev/nvcc4jupyter.git in /usr/local/lib/python3.6/dist-packages\n",
            "Building wheels for collected packages: NVCCPlugin\n",
            "  Building wheel for NVCCPlugin (setup.py) ... \u001b[?25l\u001b[?25hdone\n",
            "  Stored in directory: /tmp/pip-ephem-wheel-cache-jtkuz3qp/wheels/10/c2/05/ca241da37bff77d60d31a9174f988109c61ba989e4d4650516\n",
            "Successfully built NVCCPlugin\n"
          ],
          "name": "stdout"
        }
      ]
    },
    {
      "cell_type": "code",
      "metadata": {
        "id": "OVRIhnAtBnvC",
        "colab_type": "code",
        "outputId": "f57a2642-ac7a-4fd3-d673-c49dad2ba776",
        "colab": {
          "base_uri": "https://localhost:8080/",
          "height": 51
        }
      },
      "source": [
        "%load_ext nvcc_plugin"
      ],
      "execution_count": 10,
      "outputs": [
        {
          "output_type": "stream",
          "text": [
            "directory /content/src already exists\n",
            "Out bin /content/result.out\n"
          ],
          "name": "stdout"
        }
      ]
    },
    {
      "cell_type": "code",
      "metadata": {
        "id": "Ff6TJ2v5B7yy",
        "colab_type": "code",
        "outputId": "f56d8c70-ea84-4ba5-c8b2-1e09dab49cb7",
        "colab": {
          "base_uri": "https://localhost:8080/",
          "height": 51
        }
      },
      "source": [
        "!ls /usr/local/cuda/samples/1_Utilities/deviceQuery/"
      ],
      "execution_count": 11,
      "outputs": [
        {
          "output_type": "stream",
          "text": [
            "deviceQuery\t deviceQuery.o\tNsightEclipse.xml\n",
            "deviceQuery.cpp  Makefile\treadme.txt\n"
          ],
          "name": "stdout"
        }
      ]
    },
    {
      "cell_type": "code",
      "metadata": {
        "id": "pbSfXXlQB9F8",
        "colab_type": "code",
        "outputId": "082176d8-a59e-4e20-80d8-c44b63e62a3c",
        "colab": {
          "base_uri": "https://localhost:8080/",
          "height": 139
        }
      },
      "source": [
        "!cd /usr/local/cuda/samples/1_Utilities/deviceQuery;make clean; make\n"
      ],
      "execution_count": 12,
      "outputs": [
        {
          "output_type": "stream",
          "text": [
            "rm -f deviceQuery deviceQuery.o\n",
            "rm -rf ../../bin/x86_64/linux/release/deviceQuery\n",
            "/usr/local/cuda-10.0/bin/nvcc -ccbin g++ -I../../common/inc  -m64    -gencode arch=compute_30,code=sm_30 -gencode arch=compute_35,code=sm_35 -gencode arch=compute_37,code=sm_37 -gencode arch=compute_50,code=sm_50 -gencode arch=compute_52,code=sm_52 -gencode arch=compute_60,code=sm_60 -gencode arch=compute_61,code=sm_61 -gencode arch=compute_70,code=sm_70 -gencode arch=compute_75,code=sm_75 -gencode arch=compute_75,code=compute_75 -o deviceQuery.o -c deviceQuery.cpp\n",
            "/usr/local/cuda-10.0/bin/nvcc -ccbin g++   -m64      -gencode arch=compute_30,code=sm_30 -gencode arch=compute_35,code=sm_35 -gencode arch=compute_37,code=sm_37 -gencode arch=compute_50,code=sm_50 -gencode arch=compute_52,code=sm_52 -gencode arch=compute_60,code=sm_60 -gencode arch=compute_61,code=sm_61 -gencode arch=compute_70,code=sm_70 -gencode arch=compute_75,code=sm_75 -gencode arch=compute_75,code=compute_75 -o deviceQuery deviceQuery.o \n",
            "mkdir -p ../../bin/x86_64/linux/release\n",
            "cp deviceQuery ../../bin/x86_64/linux/release\n"
          ],
          "name": "stdout"
        }
      ]
    },
    {
      "cell_type": "code",
      "metadata": {
        "id": "5fcfs1WtCAhz",
        "colab_type": "code",
        "outputId": "c171d7db-845f-412c-8a6f-9acd94fc39a8",
        "colab": {
          "base_uri": "https://localhost:8080/",
          "height": 765
        }
      },
      "source": [
        "! /usr/local/cuda/samples/1_Utilities/deviceQuery/deviceQuery"
      ],
      "execution_count": 13,
      "outputs": [
        {
          "output_type": "stream",
          "text": [
            "/usr/local/cuda/samples/1_Utilities/deviceQuery/deviceQuery Starting...\n",
            "\n",
            " CUDA Device Query (Runtime API) version (CUDART static linking)\n",
            "\n",
            "Detected 1 CUDA Capable device(s)\n",
            "\n",
            "Device 0: \"Tesla T4\"\n",
            "  CUDA Driver Version / Runtime Version          10.0 / 10.0\n",
            "  CUDA Capability Major/Minor version number:    7.5\n",
            "  Total amount of global memory:                 15080 MBytes (15812263936 bytes)\n",
            "  (40) Multiprocessors, ( 64) CUDA Cores/MP:     2560 CUDA Cores\n",
            "  GPU Max Clock rate:                            1590 MHz (1.59 GHz)\n",
            "  Memory Clock rate:                             5001 Mhz\n",
            "  Memory Bus Width:                              256-bit\n",
            "  L2 Cache Size:                                 4194304 bytes\n",
            "  Maximum Texture Dimension Size (x,y,z)         1D=(131072), 2D=(131072, 65536), 3D=(16384, 16384, 16384)\n",
            "  Maximum Layered 1D Texture Size, (num) layers  1D=(32768), 2048 layers\n",
            "  Maximum Layered 2D Texture Size, (num) layers  2D=(32768, 32768), 2048 layers\n",
            "  Total amount of constant memory:               65536 bytes\n",
            "  Total amount of shared memory per block:       49152 bytes\n",
            "  Total number of registers available per block: 65536\n",
            "  Warp size:                                     32\n",
            "  Maximum number of threads per multiprocessor:  1024\n",
            "  Maximum number of threads per block:           1024\n",
            "  Max dimension size of a thread block (x,y,z): (1024, 1024, 64)\n",
            "  Max dimension size of a grid size    (x,y,z): (2147483647, 65535, 65535)\n",
            "  Maximum memory pitch:                          2147483647 bytes\n",
            "  Texture alignment:                             512 bytes\n",
            "  Concurrent copy and kernel execution:          Yes with 3 copy engine(s)\n",
            "  Run time limit on kernels:                     No\n",
            "  Integrated GPU sharing Host Memory:            No\n",
            "  Support host page-locked memory mapping:       Yes\n",
            "  Alignment requirement for Surfaces:            Yes\n",
            "  Device has ECC support:                        Enabled\n",
            "  Device supports Unified Addressing (UVA):      Yes\n",
            "  Device supports Compute Preemption:            Yes\n",
            "  Supports Cooperative Kernel Launch:            Yes\n",
            "  Supports MultiDevice Co-op Kernel Launch:      Yes\n",
            "  Device PCI Domain ID / Bus ID / location ID:   0 / 0 / 4\n",
            "  Compute Mode:\n",
            "     < Default (multiple host threads can use ::cudaSetDevice() with device simultaneously) >\n",
            "\n",
            "deviceQuery, CUDA Driver = CUDART, CUDA Driver Version = 10.0, CUDA Runtime Version = 10.0, NumDevs = 1\n",
            "Result = PASS\n"
          ],
          "name": "stdout"
        }
      ]
    },
    {
      "cell_type": "code",
      "metadata": {
        "id": "X1YudrMPCMqE",
        "colab_type": "code",
        "outputId": "a607634b-f916-41a2-e379-5facf2bbd40c",
        "colab": {
          "base_uri": "https://localhost:8080/",
          "height": 306
        }
      },
      "source": [
        "!nvidia-smi"
      ],
      "execution_count": 14,
      "outputs": [
        {
          "output_type": "stream",
          "text": [
            "Mon Jun  3 19:40:02 2019       \n",
            "+-----------------------------------------------------------------------------+\n",
            "| NVIDIA-SMI 418.67       Driver Version: 410.79       CUDA Version: 10.0     |\n",
            "|-------------------------------+----------------------+----------------------+\n",
            "| GPU  Name        Persistence-M| Bus-Id        Disp.A | Volatile Uncorr. ECC |\n",
            "| Fan  Temp  Perf  Pwr:Usage/Cap|         Memory-Usage | GPU-Util  Compute M. |\n",
            "|===============================+======================+======================|\n",
            "|   0  Tesla T4            Off  | 00000000:00:04.0 Off |                    0 |\n",
            "| N/A   42C    P8    16W /  70W |      0MiB / 15079MiB |      0%      Default |\n",
            "+-------------------------------+----------------------+----------------------+\n",
            "                                                                               \n",
            "+-----------------------------------------------------------------------------+\n",
            "| Processes:                                                       GPU Memory |\n",
            "|  GPU       PID   Type   Process name                             Usage      |\n",
            "|=============================================================================|\n",
            "|  No running processes found                                                 |\n",
            "+-----------------------------------------------------------------------------+\n"
          ],
          "name": "stdout"
        }
      ]
    },
    {
      "cell_type": "markdown",
      "metadata": {
        "id": "9mrRnS1Lsaq8",
        "colab_type": "text"
      },
      "source": [
        "Mount google drive with test image:"
      ]
    },
    {
      "cell_type": "code",
      "metadata": {
        "id": "murDhIypsc_F",
        "colab_type": "code",
        "outputId": "bcc2100e-0cbf-4809-fb31-34e3222bf142",
        "colab": {
          "base_uri": "https://localhost:8080/",
          "height": 34
        }
      },
      "source": [
        "from google.colab import drive\n",
        "drive.mount('/content/drive')"
      ],
      "execution_count": 15,
      "outputs": [
        {
          "output_type": "stream",
          "text": [
            "Drive already mounted at /content/drive; to attempt to forcibly remount, call drive.mount(\"/content/drive\", force_remount=True).\n"
          ],
          "name": "stdout"
        }
      ]
    },
    {
      "cell_type": "code",
      "metadata": {
        "id": "-Gbui9jyWoVC",
        "colab_type": "code",
        "outputId": "ad6bf054-deaf-4ac8-d1fb-ebf11a6a086b",
        "colab": {
          "base_uri": "https://localhost:8080/",
          "height": 340
        }
      },
      "source": [
        "!ls -al '/content/drive/My Drive'"
      ],
      "execution_count": 16,
      "outputs": [
        {
          "output_type": "stream",
          "text": [
            "total 65\n",
            "drwx------ 2 root root 4096 Dec 20  2016  Autosport\n",
            "drwx------ 3 root root 4096 Apr 20 13:10 'Colab Notebooks'\n",
            "drwx------ 2 root root 4096 Feb 27  2017  Dev\n",
            "drwx------ 2 root root 4096 May 28  2017  Documents\n",
            "drwx------ 2 root root 4096 Jun  3  2017 'Google Фото'\n",
            "drwx------ 2 root root 4096 May  8 19:49  House\n",
            "drwx------ 2 root root 4096 Sep 15  2017  InstPackage\n",
            "-rw------- 1 root root    1 May 19 16:06  Investment.gsheet\n",
            "drwx------ 2 root root 4096 Jul 12  2018  Law\n",
            "drwx------ 2 root root 4096 Jun  4  2017  MachineLearning\n",
            "drwx------ 2 root root 4096 May 23 10:58  Mother\n",
            "drwx------ 2 root root 4096 Sep  3  2018  Music\n",
            "-rw------- 1 root root    1 May 21  2017  Options.txt.gdoc\n",
            "drwx------ 2 root root 4096 May 29 10:14 'Shared Docs'\n",
            "drwx------ 2 root root 4096 May 31  2017  Tickets\n",
            "drwx------ 2 root root 4096 Sep 14  2018  UCU\n",
            "drwx------ 2 root root 4096 Dec 23  2017  Valia\n",
            "drwx------ 2 root root 4096 Dec 20  2016  ФОП\n"
          ],
          "name": "stdout"
        }
      ]
    },
    {
      "cell_type": "markdown",
      "metadata": {
        "id": "UqNp8Qrctr7Y",
        "colab_type": "text"
      },
      "source": [
        "Code for SUM on CPU"
      ]
    },
    {
      "cell_type": "code",
      "metadata": {
        "id": "vIDaCN0FtiM2",
        "colab_type": "code",
        "outputId": "331549e3-c715-4805-db59-4fbd54a5d6b1",
        "colab": {
          "base_uri": "https://localhost:8080/",
          "height": 34
        }
      },
      "source": [
        "%%cu\n",
        "\n",
        "#include <stdio.h>\n",
        "#include <immintrin.h>\n",
        "#include <stdlib.h>\n",
        "#include <sys/times.h>\n",
        "#include <time.h>\n",
        "\n",
        "using namespace std;\n",
        "\n",
        "const float msec_const = 1000.0;\n",
        "\n",
        "struct BMPInfo \n",
        "{ \n",
        "   unsigned char* data; \n",
        "   int size;\n",
        "};\n",
        "\n",
        "BMPInfo readBMP(const char* filename)\n",
        "{\n",
        "    int i;\n",
        "    FILE* f = fopen(filename, \"rb\");\n",
        "    unsigned char info[54];\n",
        "    size_t a = fread(info, sizeof(unsigned char), 54, f); // read the 54-byte header\n",
        "\n",
        "    // extract image height and width from header\n",
        "    int width = *(int*)&info[18];\n",
        "    int height = *(int*)&info[22];\n",
        "\n",
        "    int size = 3 * width * height;\n",
        "    unsigned char* data = new unsigned char[size]; // allocate 3 bytes per pixel\n",
        "    a = fread(data, sizeof(unsigned char), size, f); // read the rest of the data at once\n",
        "    fclose(f);\n",
        "\n",
        "    for(i = 0; i < size; i += 3)\n",
        "    {\n",
        "            unsigned char tmp = data[i];\n",
        "            data[i] = data[i+2];\n",
        "            data[i+2] = tmp;\n",
        "    }\n",
        "    BMPInfo bmpInfo = {data, size};\n",
        "\n",
        "    return bmpInfo;\n",
        "}\n",
        "\n",
        "u_int64_t cpu_array_sum(unsigned char* array, unsigned long size) {\n",
        "    u_int64_t result = 0;\n",
        "    for (unsigned long i = 0; i < size; i++) {\n",
        "        result += array[i];\n",
        "    }\n",
        "    return result;\n",
        "}\n",
        "\n",
        "int main(int argc, char *argv[]) {\n",
        "    clock_t start_t;\n",
        "    clock_t end_t;\n",
        "    clock_t clock_delta;\n",
        "    double clock_delta_msec;\n",
        "\n",
        "    const char *filename = \"/content/drive/My Drive/Colab Notebooks/PerformanceEngineering/Homework2/1.bmp\";\n",
        "    BMPInfo bmpInfo = readBMP(filename);\n",
        "\n",
        "    unsigned long one_color_channel_data_size = bmpInfo.size / 3;\n",
        "    unsigned char* one_color_channel_data = new unsigned char[one_color_channel_data_size];\n",
        "\n",
        "    for(unsigned long i = 0; i < one_color_channel_data_size; i++)\n",
        "    {\n",
        "        one_color_channel_data[i] = bmpInfo.data[3 * i];\n",
        "    }\n",
        "\n",
        "    start_t = clock();\n",
        "    u_int64_t sum = cpu_array_sum(one_color_channel_data, one_color_channel_data_size);\n",
        "    end_t = clock();\n",
        "\n",
        "    clock_delta = end_t - start_t;\n",
        "    clock_delta_msec = (double) (clock_delta / msec_const);\n",
        "\n",
        "    printf(\"Sum: \\t %lu \\t\\n\", sum);\n",
        "    printf(\"CPU sum: \\t %.6f ms \\t\\n\", clock_delta_msec);\n",
        "\n",
        "    free(one_color_channel_data);\n",
        "}\n"
      ],
      "execution_count": 17,
      "outputs": [
        {
          "output_type": "execute_result",
          "data": {
            "text/plain": [
              "'Sum: \\t 325464303 \\t\\nCPU sum: \\t 7.222000 ms \\t\\n'"
            ]
          },
          "metadata": {
            "tags": []
          },
          "execution_count": 17
        }
      ]
    },
    {
      "cell_type": "markdown",
      "metadata": {
        "id": "f4KJxfCcB9YR",
        "colab_type": "text"
      },
      "source": [
        "Code for SUM on GPU"
      ]
    },
    {
      "cell_type": "code",
      "metadata": {
        "id": "OAqifl6JB-_7",
        "colab_type": "code",
        "outputId": "9bede308-3631-4c0e-ca56-3cddbb6cfa5f",
        "colab": {
          "base_uri": "https://localhost:8080/",
          "height": 34
        }
      },
      "source": [
        "%%cu\n",
        "\n",
        "#include <stdio.h>\n",
        "#include <iostream>\n",
        "#include <fstream>\n",
        "#include <stdint.h>\n",
        "#include <stdlib.h>\n",
        "#include <sys/times.h>\n",
        "#include <time.h>\n",
        "\n",
        "using namespace std;\n",
        "\n",
        "#define BLOCK 1024\n",
        "\n",
        "#define cudaCheckErrors(msg) \\\n",
        "    do { \\\n",
        "        cudaError_t __err = cudaGetLastError(); \\\n",
        "        if (__err != cudaSuccess) { \\\n",
        "            fprintf(stderr, \"Fatal error at runtime: %s (%s at %s:%d)\\n\", \\\n",
        "                msg, cudaGetErrorString(__err), \\\n",
        "                __FILE__, __LINE__); \\\n",
        "            fprintf(stderr, \"*** FAILED - ABORTING\\n\"); \\\n",
        "            exit(1); \\\n",
        "        } \\\n",
        "    } while (0)\n",
        "  \n",
        "struct BMPInfo \n",
        "{ \n",
        "   unsigned char* data; \n",
        "   int size;\n",
        "   int width;\n",
        "   int height;\n",
        "};\n",
        "\n",
        "__global__ void sum_reduce_simple(u_int64_t *g_ivec, u_int64_t *g_ovec, int index, unsigned long size){\n",
        "    extern __shared__ u_int64_t sdata[];\n",
        "    \n",
        "    //each thread load s one element from global to shared mem\n",
        "    unsigned int tid = threadIdx.x;\n",
        "    unsigned long i = index*BLOCK*BLOCK + blockIdx.x * blockDim.x + threadIdx.x;\n",
        "    if (i < size) {\n",
        "        sdata[tid] = g_ivec[i];\n",
        "        __syncthreads();\n",
        "\n",
        "        // do reduction in shared mem\n",
        "        for (unsigned int s=1; s <  blockDim.x ; s *= 2) {\n",
        "            if (tid % (2*s) == 0) {\n",
        "                sdata[tid] += sdata[tid + s];\n",
        "            }\n",
        "            __syncthreads();\n",
        "        }\n",
        "        // write result for this block to global mem\n",
        "        if (tid == 0) g_ovec[BLOCK*index + blockIdx.x] = sdata[0];\n",
        "    } else {\n",
        "        sdata[tid] = 0;\n",
        "    }\n",
        "}\n",
        "\n",
        "BMPInfo readBMP(const char* filename)\n",
        "{\n",
        "    int i;\n",
        "    FILE* f = fopen(filename, \"rb\");\n",
        "    unsigned char info[54];\n",
        "    size_t a = fread(info, sizeof(unsigned char), 54, f); // read the 54-byte header\n",
        "\n",
        "    // extract image height and width from header\n",
        "    int width = *(int*)&info[18];\n",
        "    int height = *(int*)&info[22];\n",
        "\n",
        "    int size = 3 * width * height;\n",
        "    unsigned char* data = new unsigned char[size]; // allocate 3 bytes per pixel\n",
        "    a = fread(data, sizeof(unsigned char), size, f); // read the rest of the data at once\n",
        "    fclose(f);\n",
        "\n",
        "    for(i = 0; i < size; i += 3)\n",
        "    {\n",
        "            unsigned char tmp = data[i];\n",
        "            data[i] = data[i+2];\n",
        "            data[i+2] = tmp;\n",
        "    }\n",
        "    BMPInfo bmpInfo = {data, size, width, height};\n",
        "\n",
        "    return bmpInfo;\n",
        "}\n",
        "\n",
        "\n",
        "int main()\n",
        "{\n",
        "    const char *filename = \"/content/drive/My Drive/Colab Notebooks/PerformanceEngineering/Homework2/1.bmp\";\n",
        "    \n",
        "    cudaEvent_t start, stop;\n",
        "    float time;\n",
        "    cudaEventCreate(&start);\n",
        "    cudaEventCreate(&stop);\n",
        "    \n",
        "    u_int64_t *d_image, *h_image;\n",
        "    u_int64_t *d_result, *h_result;\n",
        "         \n",
        "    \n",
        "    //ALLOCATE HOST MEM\n",
        "    BMPInfo bmpInfo = readBMP(filename);\n",
        "    \n",
        "    unsigned long size = bmpInfo.size / 3;\n",
        "    h_image = new u_int64_t[size];\n",
        "\n",
        "    for(unsigned long i = 0; i < size; i++)\n",
        "    {\n",
        "        h_image[i] = (u_int64_t)(bmpInfo.data[3 * i]);\n",
        "    }\n",
        "    h_result = (u_int64_t *) malloc(sizeof(u_int64_t));\n",
        "    \n",
        "    int full_grids_number = (int)(size / (double)(BLOCK*BLOCK));\n",
        "    int elements_left_after_grids = size % (BLOCK * BLOCK);\n",
        "    int blocks_number = ceil(elements_left_after_grids / (double)BLOCK);\n",
        "    \n",
        "    int block_results_count = ceil(size / (double)BLOCK);\n",
        "    \n",
        "    //ALLOCATE MEM\n",
        "    cudaMalloc(&d_image, size * sizeof(u_int64_t));\n",
        "    cudaMalloc(&d_result, block_results_count*sizeof(u_int64_t));\n",
        "    cudaCheckErrors(\"cudaMalloc fail \\n\");\n",
        "    \n",
        "    cudaMemcpy(d_image, h_image, size*sizeof(u_int64_t), cudaMemcpyHostToDevice);\n",
        "    cudaCheckErrors(\"CudaMEMCPY to DEVICE fail \\n\");\n",
        "    \n",
        "    \n",
        "    cudaEventRecord(start, 0);\n",
        "    \n",
        "    for (int i = 0; i<full_grids_number; i++) {\n",
        "        sum_reduce_simple <<< BLOCK, BLOCK, BLOCK*sizeof(u_int64_t) >>> (d_image, d_result, i, size);\n",
        "    }\n",
        "    if (blocks_number > 0) {\n",
        "        sum_reduce_simple <<< blocks_number, BLOCK, BLOCK*sizeof(u_int64_t) >>> (d_image, d_result, full_grids_number, size);\n",
        "    }\n",
        "    cudaCheckErrors(\"Kernel sum_reduce_simple CALL fail \\n\");\n",
        "   \n",
        "    if (block_results_count > 1) {\n",
        "        size = block_results_count;\n",
        "        blocks_number = ceil(size / (double)BLOCK);\n",
        "\n",
        "        sum_reduce_simple <<< blocks_number, BLOCK, BLOCK*sizeof(u_int64_t) >>> (d_result, d_result, 0, size);\n",
        "        cudaCheckErrors(\"Kernel sum_reduce_simple CALL fail \\n\");\n",
        "    }\n",
        "    \n",
        "    if (blocks_number > 1) {\n",
        "        size = blocks_number;\n",
        "        sum_reduce_simple <<< 1, BLOCK, BLOCK*sizeof(u_int64_t) >>> (d_result, d_result, 0, size);\n",
        "    }\n",
        "    \n",
        "    cudaEventRecord(stop, 0);\n",
        "    cudaEventSynchronize(stop);\n",
        "    cudaEventElapsedTime(&time, start, stop);\n",
        "    printf (\"Time for the sum_reduce_simple kernel: %f ms\\n\", time);\n",
        "    \n",
        "    cudaMemcpy(h_result, d_result, sizeof(u_int64_t), cudaMemcpyDeviceToHost);\n",
        "\t  cudaCheckErrors(\"Memory copying result fail \\n\");\n",
        "    \n",
        "    //FREE MEM\n",
        "    cudaFree(d_image);\n",
        "    cudaFree(d_result);\n",
        "    cudaCheckErrors(\"cudaFree fail \\n\");\n",
        "    \n",
        "    printf (\"SUM is: %d\\n\",h_result[0]); \n",
        "    \n",
        "    free(h_image);\n",
        "    free(h_result);\n",
        "    return(0);\n",
        "}"
      ],
      "execution_count": 18,
      "outputs": [
        {
          "output_type": "execute_result",
          "data": {
            "text/plain": [
              "'Time for the sum_reduce_simple kernel: 0.921728 ms\\nSUM is: 325464303\\n'"
            ]
          },
          "metadata": {
            "tags": []
          },
          "execution_count": 18
        }
      ]
    },
    {
      "cell_type": "markdown",
      "metadata": {
        "id": "L4dhNplqEjDy",
        "colab_type": "text"
      },
      "source": [
        "Code for MIN on CPU"
      ]
    },
    {
      "cell_type": "code",
      "metadata": {
        "id": "OHLR4wUYDso0",
        "colab_type": "code",
        "outputId": "a2c8a9fb-b9cc-4933-85a9-075ac376a71e",
        "colab": {
          "base_uri": "https://localhost:8080/",
          "height": 34
        }
      },
      "source": [
        "%%cu\n",
        "\n",
        "#include <stdio.h>\n",
        "#include <immintrin.h>\n",
        "#include <stdlib.h>\n",
        "#include <sys/times.h>\n",
        "#include <time.h>\n",
        "\n",
        "using namespace std;\n",
        "\n",
        "const float msec_const = 1000.0;\n",
        "\n",
        "struct BMPInfo \n",
        "{ \n",
        "   unsigned char* data; \n",
        "   int size;\n",
        "};\n",
        "\n",
        "BMPInfo readBMP(const char* filename)\n",
        "{\n",
        "    int i;\n",
        "    FILE* f = fopen(filename, \"rb\");\n",
        "    unsigned char info[54];\n",
        "    size_t a = fread(info, sizeof(unsigned char), 54, f); // read the 54-byte header\n",
        "\n",
        "    // extract image height and width from header\n",
        "    int width = *(int*)&info[18];\n",
        "    int height = *(int*)&info[22];\n",
        "\n",
        "    int size = 3 * width * height;\n",
        "    unsigned char* data = new unsigned char[size]; // allocate 3 bytes per pixel\n",
        "    a = fread(data, sizeof(unsigned char), size, f); // read the rest of the data at once\n",
        "    fclose(f);\n",
        "\n",
        "    for(i = 0; i < size; i += 3)\n",
        "    {\n",
        "            unsigned char tmp = data[i];\n",
        "            data[i] = data[i+2];\n",
        "            data[i+2] = tmp;\n",
        "    }\n",
        "    BMPInfo bmpInfo = {data, size};\n",
        "\n",
        "    return bmpInfo;\n",
        "}\n",
        "\n",
        "unsigned char cpu_array_min(unsigned char* array, unsigned long size) {\n",
        "    unsigned char min = 255;\n",
        "    for (unsigned long i = 0; i < size; i++) {\n",
        "        if (array[i] < min) {\n",
        "            min = array[i];\n",
        "        }\n",
        "    }\n",
        "    return min;\n",
        "}\n",
        "\n",
        "\n",
        "\n",
        "int main(int argc, char *argv[]) {\n",
        "    clock_t start_t;\n",
        "    clock_t end_t;\n",
        "    clock_t clock_delta;\n",
        "    double clock_delta_msec;\n",
        "\n",
        "    const char *filename = \"/content/drive/My Drive/Colab Notebooks/PerformanceEngineering/Homework2/1.bmp\";\n",
        "    BMPInfo bmpInfo = readBMP(filename);\n",
        "\n",
        "    unsigned long one_color_channel_data_size = bmpInfo.size / 3;\n",
        "    unsigned char* one_color_channel_data = new unsigned char[one_color_channel_data_size];\n",
        "\n",
        "    for(unsigned long i = 0; i < one_color_channel_data_size; i++)\n",
        "    {\n",
        "        one_color_channel_data[i] = bmpInfo.data[3 * i];\n",
        "    }\n",
        "\n",
        "    start_t = clock();\n",
        "    unsigned char min = cpu_array_min(one_color_channel_data, one_color_channel_data_size);\n",
        "    end_t = clock();\n",
        "\n",
        "    clock_delta = end_t - start_t;\n",
        "    clock_delta_msec = (double) (clock_delta / msec_const);\n",
        "\n",
        "    printf(\"Min: \\t %d \\t\\n\", min);\n",
        "    printf(\"CPU min: \\t %.6f ms \\t\\n\", clock_delta_msec);\n",
        "\n",
        "    free(one_color_channel_data);\n",
        "}\n"
      ],
      "execution_count": 19,
      "outputs": [
        {
          "output_type": "execute_result",
          "data": {
            "text/plain": [
              "'Min: \\t 0 \\t\\nCPU min: \\t 6.939000 ms \\t\\n'"
            ]
          },
          "metadata": {
            "tags": []
          },
          "execution_count": 19
        }
      ]
    },
    {
      "cell_type": "markdown",
      "metadata": {
        "id": "QnrlbP0aDMTt",
        "colab_type": "text"
      },
      "source": [
        "Code for MIN on GPU"
      ]
    },
    {
      "cell_type": "code",
      "metadata": {
        "id": "wYL_n3H4DN4X",
        "colab_type": "code",
        "outputId": "518b1c04-0315-4ba3-9202-91c0caaf74b5",
        "colab": {
          "base_uri": "https://localhost:8080/",
          "height": 34
        }
      },
      "source": [
        "%%cu\n",
        "\n",
        "#include <stdio.h>\n",
        "#include <iostream>\n",
        "#include <fstream>\n",
        "#include <stdint.h>\n",
        "#include <stdlib.h>\n",
        "#include <sys/times.h>\n",
        "#include <time.h>\n",
        "\n",
        "using namespace std;\n",
        "\n",
        "#define BLOCK 1024\n",
        "\n",
        "#define cudaCheckErrors(msg) \\\n",
        "    do { \\\n",
        "        cudaError_t __err = cudaGetLastError(); \\\n",
        "        if (__err != cudaSuccess) { \\\n",
        "            fprintf(stderr, \"Fatal error at runtime: %s (%s at %s:%d)\\n\", \\\n",
        "                msg, cudaGetErrorString(__err), \\\n",
        "                __FILE__, __LINE__); \\\n",
        "            fprintf(stderr, \"*** FAILED - ABORTING\\n\"); \\\n",
        "            exit(1); \\\n",
        "        } \\\n",
        "    } while (0)\n",
        "  \n",
        "struct BMPInfo \n",
        "{ \n",
        "   unsigned char* data; \n",
        "   int size;\n",
        "   int width;\n",
        "   int height;\n",
        "};\n",
        "\n",
        "__global__ void min_reduce_simple(unsigned char *g_ivec, unsigned char *g_ovec, int index, unsigned long size){\n",
        "    extern __shared__ unsigned char sdata[];\n",
        "    \n",
        "    //each thread load s one element from global to shared mem\n",
        "    unsigned int tid = threadIdx.x;\n",
        "    unsigned long i = index*BLOCK*BLOCK + blockIdx.x * blockDim.x + threadIdx.x;\n",
        "    if (i < size) {\n",
        "        sdata[tid] = g_ivec[i];\n",
        "        __syncthreads();\n",
        "\n",
        "        // do reduction in shared mem\n",
        "        for (unsigned int s=1; s <  blockDim.x ; s *= 2) {\n",
        "            if ((tid % (2*s) == 0) && (sdata[tid] > sdata[tid + s])) {\n",
        "                sdata[tid] = sdata[tid + s];\n",
        "            }\n",
        "            __syncthreads();\n",
        "        }\n",
        "        // write result for this block to global mem\n",
        "        if (tid == 0) g_ovec[BLOCK*index + blockIdx.x] = sdata[0];\n",
        "    } else {\n",
        "        sdata[tid] = 255;\n",
        "    }\n",
        "}\n",
        "\n",
        "BMPInfo readBMP(const char* filename)\n",
        "{\n",
        "    int i;\n",
        "    FILE* f = fopen(filename, \"rb\");\n",
        "    unsigned char info[54];\n",
        "    size_t a = fread(info, sizeof(unsigned char), 54, f); // read the 54-byte header\n",
        "\n",
        "    // extract image height and width from header\n",
        "    int width = *(int*)&info[18];\n",
        "    int height = *(int*)&info[22];\n",
        "\n",
        "    int size = 3 * width * height;\n",
        "    unsigned char* data = new unsigned char[size]; // allocate 3 bytes per pixel\n",
        "    a = fread(data, sizeof(unsigned char), size, f); // read the rest of the data at once\n",
        "    fclose(f);\n",
        "\n",
        "    for(i = 0; i < size; i += 3)\n",
        "    {\n",
        "            unsigned char tmp = data[i];\n",
        "            data[i] = data[i+2];\n",
        "            data[i+2] = tmp;\n",
        "    }\n",
        "    BMPInfo bmpInfo = {data, size, width, height};\n",
        "\n",
        "    return bmpInfo;\n",
        "}\n",
        "\n",
        "\n",
        "int main()\n",
        "{\n",
        "    const char *filename = \"/content/drive/My Drive/Colab Notebooks/PerformanceEngineering/Homework2/1.bmp\";\n",
        "    \n",
        "    cudaEvent_t start, stop;\n",
        "    float time;\n",
        "    cudaEventCreate(&start);\n",
        "    cudaEventCreate(&stop);\n",
        "    \n",
        "    unsigned char *d_image, *h_image;\n",
        "    unsigned char *d_result, *h_result;\n",
        "         \n",
        "    \n",
        "    //ALLOCATE HOST MEM\n",
        "    BMPInfo bmpInfo = readBMP(filename);\n",
        "    \n",
        "    unsigned long size = bmpInfo.size / 3;\n",
        "    h_image = new unsigned char[size];\n",
        "\n",
        "    for(unsigned long i = 0; i < size; i++)\n",
        "    {\n",
        "        h_image[i] = bmpInfo.data[3 * i];\n",
        "    }\n",
        "    h_result = (unsigned char *) malloc(sizeof(unsigned char));\n",
        "    \n",
        "    int full_grids_number = (int)(size / (double)(BLOCK*BLOCK));\n",
        "    int elements_left_after_grids = size % (BLOCK * BLOCK);\n",
        "    int blocks_number = ceil(elements_left_after_grids / (double)BLOCK);\n",
        "    \n",
        "    int block_results_count = ceil(size / (double)BLOCK);\n",
        "    \n",
        "    //ALLOCATE MEM\n",
        "    cudaMalloc(&d_image, size * sizeof(unsigned char));\n",
        "    cudaMalloc(&d_result, block_results_count*sizeof(unsigned char));\n",
        "    cudaCheckErrors(\"cudaMalloc fail \\n\");\n",
        "    \n",
        "    cudaMemcpy(d_image, h_image, size*sizeof(unsigned char), cudaMemcpyHostToDevice);\n",
        "    cudaCheckErrors(\"CudaMEMCPY to DEVICE fail \\n\");\n",
        "    \n",
        "    \n",
        "    cudaEventRecord(start, 0);\n",
        "    \n",
        "    for (int i = 0; i<full_grids_number; i++) {\n",
        "        min_reduce_simple <<< BLOCK, BLOCK, BLOCK*sizeof(unsigned char) >>> (d_image, d_result, i, size);\n",
        "    }\n",
        "    if (blocks_number > 0) {\n",
        "        min_reduce_simple <<< blocks_number, BLOCK, BLOCK*sizeof(unsigned char) >>> (d_image, d_result, full_grids_number, size);\n",
        "    }\n",
        "    cudaCheckErrors(\"Kernel min_reduce_simple CALL fail \\n\");\n",
        "   \n",
        "    if (block_results_count > 1) {\n",
        "        size = block_results_count;\n",
        "        blocks_number = ceil(size / (double)BLOCK);\n",
        "\n",
        "        min_reduce_simple <<< blocks_number, BLOCK, BLOCK*sizeof(unsigned char) >>> (d_result, d_result, 0, size);\n",
        "        cudaCheckErrors(\"Kernel min_reduce_simple CALL fail \\n\");\n",
        "    }\n",
        "    \n",
        "    if (blocks_number > 1) {\n",
        "        size = blocks_number;\n",
        "        min_reduce_simple <<< 1, BLOCK, BLOCK*sizeof(unsigned char) >>> (d_result, d_result, 0, size);\n",
        "    }\n",
        "    \n",
        "    cudaEventRecord(stop, 0);\n",
        "    cudaEventSynchronize(stop);\n",
        "    cudaEventElapsedTime(&time, start, stop);\n",
        "    printf (\"Time for the min_reduce_simple kernel: %f ms\\n\", time);\n",
        "    \n",
        "    cudaMemcpy(h_result, d_result, sizeof(unsigned char), cudaMemcpyDeviceToHost);\n",
        "\t  cudaCheckErrors(\"Memory copying result fail \\n\");\n",
        "    \n",
        "    //FREE MEM\n",
        "    cudaFree(d_image);\n",
        "    cudaFree(d_result);\n",
        "    cudaCheckErrors(\"cudaFree fail \\n\");\n",
        "    \n",
        "    printf (\"MIN is: %d\\n\",h_result[0]); \n",
        "    \n",
        "    free(h_image);\n",
        "    free(h_result);\n",
        "    return(0);\n",
        "}"
      ],
      "execution_count": 20,
      "outputs": [
        {
          "output_type": "execute_result",
          "data": {
            "text/plain": [
              "'Time for the min_reduce_simple kernel: 0.836608 ms\\nMIN is: 0\\n'"
            ]
          },
          "metadata": {
            "tags": []
          },
          "execution_count": 20
        }
      ]
    },
    {
      "cell_type": "markdown",
      "metadata": {
        "id": "BjXbD4VHEmbA",
        "colab_type": "text"
      },
      "source": [
        "Code for Integral Image on CPU"
      ]
    },
    {
      "cell_type": "code",
      "metadata": {
        "id": "IISVC85gDszL",
        "colab_type": "code",
        "outputId": "59455cf2-fa31-420d-ed77-579a1c8d0961",
        "colab": {
          "base_uri": "https://localhost:8080/",
          "height": 34
        }
      },
      "source": [
        "%%cu\n",
        "\n",
        "#include <stdio.h>\n",
        "#include <immintrin.h>\n",
        "#include <stdlib.h>\n",
        "#include <sys/times.h>\n",
        "#include <time.h>\n",
        "\n",
        "using namespace std;\n",
        "\n",
        "const float msec_const = 1000.0;\n",
        "\n",
        "struct BMPInfo \n",
        "{ \n",
        "   unsigned char* data; \n",
        "   int size;\n",
        "   int width;\n",
        "   int height;\n",
        "};\n",
        "\n",
        "BMPInfo readBMP(const char* filename)\n",
        "{\n",
        "    int i;\n",
        "    FILE* f = fopen(filename, \"rb\");\n",
        "    unsigned char info[54];\n",
        "    size_t a = fread(info, sizeof(unsigned char), 54, f); // read the 54-byte header\n",
        "\n",
        "    // extract image height and width from header\n",
        "    int width = *(int*)&info[18];\n",
        "    int height = *(int*)&info[22];\n",
        "\n",
        "    int size = 3 * width * height;\n",
        "    unsigned char* data = new unsigned char[size]; // allocate 3 bytes per pixel\n",
        "    a = fread(data, sizeof(unsigned char), size, f); // read the rest of the data at once\n",
        "    fclose(f);\n",
        "\n",
        "    for(i = 0; i < size; i += 3)\n",
        "    {\n",
        "            unsigned char tmp = data[i];\n",
        "            data[i] = data[i+2];\n",
        "            data[i+2] = tmp;\n",
        "    }\n",
        "    BMPInfo bmpInfo = {data, size, width, height};\n",
        "\n",
        "    return bmpInfo;\n",
        "}\n",
        "\n",
        "unsigned char* cpu_integral_image(unsigned char* array, unsigned long size, int width, int height) {\n",
        "    unsigned char *result = (unsigned char *)malloc(size * sizeof(unsigned char));\n",
        "    for (unsigned long i = 0; i < size; i++) {\n",
        "        result[i] = array[i];\n",
        "    }\n",
        "    for (int i = 0; i < height; i++) {\n",
        "        for (int j = 1; j < width; j++) {\n",
        "            result[i * width + j] += result[i * width + j - 1];\n",
        "        }\n",
        "    }\n",
        "    for (int i = 0; i < width; i++) {\n",
        "        for (int j = 1; j < height; j++) {\n",
        "            result[j * width + i] += result[(j - 1) * width + i];\n",
        "        }\n",
        "    }\n",
        "    return result;\n",
        "}\n",
        "\n",
        "\n",
        "\n",
        "int main(int argc, char *argv[]) {\n",
        "    clock_t start_t;\n",
        "    clock_t end_t;\n",
        "    clock_t clock_delta;\n",
        "    double clock_delta_msec;\n",
        "\n",
        "    const char *filename = \"/content/drive/My Drive/Colab Notebooks/PerformanceEngineering/Homework2/1.bmp\";\n",
        "    BMPInfo bmpInfo = readBMP(filename);\n",
        "\n",
        "    unsigned long one_color_channel_data_size = bmpInfo.size / 3;\n",
        "    unsigned char* one_color_channel_data = new unsigned char[one_color_channel_data_size];\n",
        "\n",
        "    for(unsigned long i = 0; i < one_color_channel_data_size; i++)\n",
        "    {\n",
        "        one_color_channel_data[i] = bmpInfo.data[3 * i];\n",
        "    }\n",
        "\n",
        "    start_t = clock();\n",
        "    unsigned char* result = cpu_integral_image(one_color_channel_data, one_color_channel_data_size, bmpInfo.width, bmpInfo.height);\n",
        "    end_t = clock();\n",
        "\n",
        "    clock_delta = end_t - start_t;\n",
        "    clock_delta_msec = (double) (clock_delta / msec_const);\n",
        "\n",
        "    printf(\"Last elements: %d, %d, %d\\n\", result[one_color_channel_data_size-3], result[one_color_channel_data_size-2], result[one_color_channel_data_size-1]);\n",
        "    printf(\"CPU integral image: \\t %.6f ms \\t\\n\", clock_delta_msec);\n",
        "\n",
        "    free(one_color_channel_data);\n",
        "}\n"
      ],
      "execution_count": 21,
      "outputs": [
        {
          "output_type": "execute_result",
          "data": {
            "text/plain": [
              "'Last elements: 231, 228, 239\\nCPU integral image: \\t 56.841000 ms \\t\\n'"
            ]
          },
          "metadata": {
            "tags": []
          },
          "execution_count": 21
        }
      ]
    },
    {
      "cell_type": "markdown",
      "metadata": {
        "id": "_c2-gp5iFgWH",
        "colab_type": "text"
      },
      "source": [
        "Code for Integral Image on GPU"
      ]
    },
    {
      "cell_type": "code",
      "metadata": {
        "id": "yXeOnCnGFicD",
        "colab_type": "code",
        "outputId": "c9ed2af3-f502-4ed2-d3f4-4a41a0de3cac",
        "colab": {
          "base_uri": "https://localhost:8080/",
          "height": 34
        }
      },
      "source": [
        "%%cu\n",
        "\n",
        "#include <stdio.h>\n",
        "#include <iostream>\n",
        "#include <fstream>\n",
        "#include <stdint.h>\n",
        "#include <stdlib.h>\n",
        "#include <sys/times.h>\n",
        "#include <time.h>\n",
        "\n",
        "using namespace std;\n",
        "\n",
        "#define BLOCK 1024\n",
        "\n",
        "#define cudaCheckErrors(msg) \\\n",
        "    do { \\\n",
        "        cudaError_t __err = cudaGetLastError(); \\\n",
        "        if (__err != cudaSuccess) { \\\n",
        "            fprintf(stderr, \"Fatal error at runtime: %s (%s at %s:%d)\\n\", \\\n",
        "                msg, cudaGetErrorString(__err), \\\n",
        "                __FILE__, __LINE__); \\\n",
        "            fprintf(stderr, \"*** FAILED - ABORTING\\n\"); \\\n",
        "            exit(1); \\\n",
        "        } \\\n",
        "    } while (0)\n",
        "  \n",
        "struct BMPInfo \n",
        "{ \n",
        "   unsigned char* data; \n",
        "   int size;\n",
        "   int width;\n",
        "   int height;\n",
        "};\n",
        "\n",
        "__global__ void integral_image_rows(unsigned char *g_ivec, int height, int width){\n",
        "    int i = blockIdx.x * blockDim.x + threadIdx.x;\n",
        "    if (i < height) {\n",
        "        for (int j = 1; j < width; j++) {\n",
        "            g_ivec[i * width + j] += g_ivec[i * width + j - 1];\n",
        "        }\n",
        "    }\n",
        "}\n",
        "\n",
        "__global__ void integral_image_columns(unsigned char *g_ivec, int height, int width){\n",
        "    int i = blockIdx.x * blockDim.x + threadIdx.x;\n",
        "    if (i < width) {\n",
        "        for (int j = 1; j < height; j++) {\n",
        "            g_ivec[j * width + i] += g_ivec[(j - 1) * width + i];\n",
        "        }\n",
        "    }\n",
        "}\n",
        "\n",
        "BMPInfo readBMP(const char* filename)\n",
        "{\n",
        "    int i;\n",
        "    FILE* f = fopen(filename, \"rb\");\n",
        "    unsigned char info[54];\n",
        "    size_t a = fread(info, sizeof(unsigned char), 54, f); // read the 54-byte header\n",
        "\n",
        "    // extract image height and width from header\n",
        "    int width = *(int*)&info[18];\n",
        "    int height = *(int*)&info[22];\n",
        "\n",
        "    int size = 3 * width * height;\n",
        "    unsigned char* data = new unsigned char[size]; // allocate 3 bytes per pixel\n",
        "    a = fread(data, sizeof(unsigned char), size, f); // read the rest of the data at once\n",
        "    fclose(f);\n",
        "\n",
        "    for(i = 0; i < size; i += 3)\n",
        "    {\n",
        "            unsigned char tmp = data[i];\n",
        "            data[i] = data[i+2];\n",
        "            data[i+2] = tmp;\n",
        "    }\n",
        "    BMPInfo bmpInfo = {data, size, width, height};\n",
        "\n",
        "    return bmpInfo;\n",
        "}\n",
        "\n",
        "\n",
        "int main()\n",
        "{\n",
        "    const char *filename = \"/content/drive/My Drive/Colab Notebooks/PerformanceEngineering/Homework2/1.bmp\";\n",
        "    \n",
        "    cudaEvent_t start, stop;\n",
        "    float time;\n",
        "    cudaEventCreate(&start);\n",
        "    cudaEventCreate(&stop);\n",
        "    \n",
        "    unsigned char *d_image, *h_image, *h_result;\n",
        "    \n",
        "    //ALLOCATE HOST MEM\n",
        "    \n",
        "    BMPInfo bmpInfo = readBMP(filename);\n",
        "    \n",
        "    unsigned long size = bmpInfo.size / 3;\n",
        "    int width = bmpInfo.width;\n",
        "    int height = bmpInfo.height;\n",
        "    h_image = new unsigned char[size];\n",
        "    h_result = new unsigned char[size];\n",
        "\n",
        "    for(unsigned long i = 0; i < size; i++)\n",
        "    {\n",
        "        h_image[i] = bmpInfo.data[3 * i];\n",
        "    }\n",
        "    \n",
        "    //ALLOCATE MEM\n",
        "    cudaMalloc(&d_image, size * sizeof(unsigned char));\n",
        "    cudaCheckErrors(\"cudaMalloc fail \\n\");\n",
        "    \n",
        "    cudaMemcpy(d_image, h_image, size*sizeof(unsigned char), cudaMemcpyHostToDevice);\n",
        "    cudaCheckErrors(\"CudaMEMCPY to DEVICE fail \\n\");\n",
        "    \n",
        "    \n",
        "    cudaEventRecord(start, 0);\n",
        "    \n",
        "    int height_blocks = ceil(height / (double)BLOCK);\n",
        "    integral_image_rows <<< height_blocks, BLOCK >>> (d_image, height, width);\n",
        "    cudaCheckErrors(\"Kernel integral_image_rows CALL fail \\n\");\n",
        "    \n",
        "    int width_blocks = ceil(width / (double)BLOCK);\n",
        "    integral_image_columns <<< width_blocks, BLOCK >>> (d_image, height, width);\n",
        "    cudaCheckErrors(\"Kernel integral_image_columns CALL fail \\n\");\n",
        "    \n",
        "    cudaEventRecord(stop, 0);\n",
        "    cudaEventSynchronize(stop);\n",
        "    cudaEventElapsedTime(&time, start, stop);\n",
        "    printf (\"Time for the integral_image kernel: %f ms\\n\", time);\n",
        "    \n",
        "    cudaMemcpy(h_result, d_image, size*sizeof(unsigned char), cudaMemcpyDeviceToHost);\n",
        "\t  cudaCheckErrors(\"Memory copying result fail \\n\");\n",
        "    \n",
        "    //FREE MEM\n",
        "    cudaFree(d_image);\n",
        "    cudaCheckErrors(\"cudaFree fail \\n\");\n",
        "    \n",
        "    printf(\"Last elements: %d, %d, %d\\n\", h_result[size-3], h_result[size-2], h_result[size-1]);\n",
        "    \n",
        "    free(h_image);\n",
        "    free(h_result);\n",
        "    return(0);\n",
        "}"
      ],
      "execution_count": 22,
      "outputs": [
        {
          "output_type": "execute_result",
          "data": {
            "text/plain": [
              "'Time for the integral_image kernel: 12.020672 ms\\nLast elements: 231, 228, 239\\n'"
            ]
          },
          "metadata": {
            "tags": []
          },
          "execution_count": 22
        }
      ]
    }
  ]
}